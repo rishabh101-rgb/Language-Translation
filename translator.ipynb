{
 "cells": [
  {
   "cell_type": "code",
   "execution_count": 2,
   "metadata": {},
   "outputs": [],
   "source": [
    "# pip install fasteda\n",
    "# pip install cufflinks\n",
    "# pip install plotly_express\n",
    "# pip install scikit-learn\n",
    "# pip install transformers -U -q\n",
    "# pip install sentencepiece"
   ]
  },
  {
   "cell_type": "code",
   "execution_count": 3,
   "metadata": {},
   "outputs": [
    {
     "data": {
      "text/html": [
       "        <script type=\"text/javascript\">\n",
       "        window.PlotlyConfig = {MathJaxConfig: 'local'};\n",
       "        if (window.MathJax && window.MathJax.Hub && window.MathJax.Hub.Config) {window.MathJax.Hub.Config({SVG: {font: \"STIX-Web\"}});}\n",
       "        if (typeof require !== 'undefined') {\n",
       "        require.undef(\"plotly\");\n",
       "        requirejs.config({\n",
       "            paths: {\n",
       "                'plotly': ['https://cdn.plot.ly/plotly-2.27.0.min']\n",
       "            }\n",
       "        });\n",
       "        require(['plotly'], function(Plotly) {\n",
       "            window._Plotly = Plotly;\n",
       "        });\n",
       "        }\n",
       "        </script>\n",
       "        "
      ]
     },
     "metadata": {},
     "output_type": "display_data"
    }
   ],
   "source": [
    "import string\n",
    "import re\n",
    "import transformers\n",
    "import numpy as np\n",
    "import pandas as pd\n",
    "import cufflinks as cf\n",
    "import plotly_express\n",
    "from fasteda import fast_eda\n",
    "import tensorflow as tf\n",
    "from tensorflow import keras\n",
    "from keras.models import Sequential, Model\n",
    "from keras.layers import Dense, LSTM, Embedding, Input\n",
    "from keras.preprocessing.text import Tokenizer\n",
    "from keras.callbacks import ModelCheckpoint\n",
    "from keras.preprocessing.sequence import pad_sequences\n",
    "from keras import optimizers\n",
    "import matplotlib.pyplot as plt\n",
    "%matplotlib inline\n",
    "\n",
    "pd.set_option('display.max_rows', 500)\n",
    "pd.set_option('display.max_columns', 500)\n",
    "pd.set_option('display.width', 1000)\n",
    "pd.set_option('display.max_colwidth', None)"
   ]
  },
  {
   "cell_type": "code",
   "execution_count": 4,
   "metadata": {},
   "outputs": [],
   "source": [
    "df = pd.read_csv(\"Hindi_English_Truncated_Corpus.csv\",encoding='utf-8')"
   ]
  },
  {
   "cell_type": "code",
   "execution_count": 5,
   "metadata": {},
   "outputs": [
    {
     "data": {
      "text/html": [
       "<div>\n",
       "<style scoped>\n",
       "    .dataframe tbody tr th:only-of-type {\n",
       "        vertical-align: middle;\n",
       "    }\n",
       "\n",
       "    .dataframe tbody tr th {\n",
       "        vertical-align: top;\n",
       "    }\n",
       "\n",
       "    .dataframe thead th {\n",
       "        text-align: right;\n",
       "    }\n",
       "</style>\n",
       "<table border=\"1\" class=\"dataframe\">\n",
       "  <thead>\n",
       "    <tr style=\"text-align: right;\">\n",
       "      <th></th>\n",
       "      <th>source</th>\n",
       "      <th>english_sentence</th>\n",
       "      <th>hindi_sentence</th>\n",
       "    </tr>\n",
       "  </thead>\n",
       "  <tbody>\n",
       "    <tr>\n",
       "      <th>0</th>\n",
       "      <td>ted</td>\n",
       "      <td>politicians do not have permission to do what needs to be done.</td>\n",
       "      <td>राजनीतिज्ञों के पास जो कार्य करना चाहिए, वह करने कि अनुमति नहीं है .</td>\n",
       "    </tr>\n",
       "    <tr>\n",
       "      <th>1</th>\n",
       "      <td>ted</td>\n",
       "      <td>I'd like to tell you about one such child,</td>\n",
       "      <td>मई आपको ऐसे ही एक बच्चे के बारे में बताना चाहूंगी,</td>\n",
       "    </tr>\n",
       "    <tr>\n",
       "      <th>2</th>\n",
       "      <td>indic2012</td>\n",
       "      <td>This percentage is even greater than the percentage in India.</td>\n",
       "      <td>यह प्रतिशत भारत में हिन्दुओं प्रतिशत से अधिक है।</td>\n",
       "    </tr>\n",
       "    <tr>\n",
       "      <th>3</th>\n",
       "      <td>ted</td>\n",
       "      <td>what we really mean is that they're bad at not paying attention.</td>\n",
       "      <td>हम ये नहीं कहना चाहते कि वो ध्यान नहीं दे पाते</td>\n",
       "    </tr>\n",
       "    <tr>\n",
       "      <th>4</th>\n",
       "      <td>indic2012</td>\n",
       "      <td>.The ending portion of these Vedas is called Upanishad.</td>\n",
       "      <td>इन्हीं वेदों का अंतिम भाग उपनिषद कहलाता है।</td>\n",
       "    </tr>\n",
       "  </tbody>\n",
       "</table>\n",
       "</div>"
      ],
      "text/plain": [
       "      source                                                  english_sentence                                                        hindi_sentence\n",
       "0        ted   politicians do not have permission to do what needs to be done.  राजनीतिज्ञों के पास जो कार्य करना चाहिए, वह करने कि अनुमति नहीं है .\n",
       "1        ted                        I'd like to tell you about one such child,                    मई आपको ऐसे ही एक बच्चे के बारे में बताना चाहूंगी,\n",
       "2  indic2012     This percentage is even greater than the percentage in India.                      यह प्रतिशत भारत में हिन्दुओं प्रतिशत से अधिक है।\n",
       "3        ted  what we really mean is that they're bad at not paying attention.                        हम ये नहीं कहना चाहते कि वो ध्यान नहीं दे पाते\n",
       "4  indic2012           .The ending portion of these Vedas is called Upanishad.                           इन्हीं वेदों का अंतिम भाग उपनिषद कहलाता है।"
      ]
     },
     "execution_count": 5,
     "metadata": {},
     "output_type": "execute_result"
    }
   ],
   "source": [
    "df.head()"
   ]
  },
  {
   "cell_type": "code",
   "execution_count": 6,
   "metadata": {},
   "outputs": [
    {
     "data": {
      "text/html": [
       "<div>\n",
       "<style scoped>\n",
       "    .dataframe tbody tr th:only-of-type {\n",
       "        vertical-align: middle;\n",
       "    }\n",
       "\n",
       "    .dataframe tbody tr th {\n",
       "        vertical-align: top;\n",
       "    }\n",
       "\n",
       "    .dataframe thead th {\n",
       "        text-align: right;\n",
       "    }\n",
       "</style>\n",
       "<table border=\"1\" class=\"dataframe\">\n",
       "  <thead>\n",
       "    <tr style=\"text-align: right;\">\n",
       "      <th></th>\n",
       "      <th>source</th>\n",
       "      <th>english_sentence</th>\n",
       "      <th>hindi_sentence</th>\n",
       "    </tr>\n",
       "  </thead>\n",
       "  <tbody>\n",
       "    <tr>\n",
       "      <th>127602</th>\n",
       "      <td>indic2012</td>\n",
       "      <td>Examples of art deco construction can be found around Marine Drive and Oval Ground areas.</td>\n",
       "      <td>आर्ट डेको शैली के निर्माण मैरीन ड्राइव और ओवल मैदान के किनारे दिखाई देते हैं।</td>\n",
       "    </tr>\n",
       "    <tr>\n",
       "      <th>127603</th>\n",
       "      <td>ted</td>\n",
       "      <td>and put it in our cheeks.</td>\n",
       "      <td>और अपने गालों में डाल लेते हैं।</td>\n",
       "    </tr>\n",
       "    <tr>\n",
       "      <th>127604</th>\n",
       "      <td>tides</td>\n",
       "      <td>As for the other derivatives of sulphur , the country 's needs of iron , copper , sodium , etc . sulphates were limited , and the production achieved after the war was generally adequate .</td>\n",
       "      <td>जहां तक गंधक के अन्य उत्पादों का प्रश्न है , देश में लोहे , तांबे , सोडियम , सल्फेट आदि की आवश्यकता सीमित थी और युद्धोपरांत हुआ उत्पादन सामान्य रूप से पर्याप्त था .</td>\n",
       "    </tr>\n",
       "    <tr>\n",
       "      <th>127605</th>\n",
       "      <td>tides</td>\n",
       "      <td>its complicated functioning is defined thus in a popular riddle :</td>\n",
       "      <td>Zरचना-प्रकिया को उसने एक पहेली में यों बांधा है .</td>\n",
       "    </tr>\n",
       "    <tr>\n",
       "      <th>127606</th>\n",
       "      <td>ted</td>\n",
       "      <td>They've just won four government contracts to build off their 100 ambulances,</td>\n",
       "      <td>हाल ही में उन्हें सरकारी ठेका मिला है करीब सौ नई अम्बुलेन्स बनाने का,</td>\n",
       "    </tr>\n",
       "  </tbody>\n",
       "</table>\n",
       "</div>"
      ],
      "text/plain": [
       "           source                                                                                                                                                                              english_sentence                                                                                                                                                        hindi_sentence\n",
       "127602  indic2012                                                                                                     Examples of art deco construction can be found around Marine Drive and Oval Ground areas.                                                                                         आर्ट डेको शैली के निर्माण मैरीन ड्राइव और ओवल मैदान के किनारे दिखाई देते हैं।\n",
       "127603        ted                                                                                                                                                                     and put it in our cheeks.                                                                                                                                       और अपने गालों में डाल लेते हैं।\n",
       "127604      tides  As for the other derivatives of sulphur , the country 's needs of iron , copper , sodium , etc . sulphates were limited , and the production achieved after the war was generally adequate .  जहां तक गंधक के अन्य उत्पादों का प्रश्न है , देश में लोहे , तांबे , सोडियम , सल्फेट आदि की आवश्यकता सीमित थी और युद्धोपरांत हुआ उत्पादन सामान्य रूप से पर्याप्त था .\n",
       "127605      tides                                                                                                                             its complicated functioning is defined thus in a popular riddle :                                                                                                                     Zरचना-प्रकिया को उसने एक पहेली में यों बांधा है .\n",
       "127606        ted                                                                                                                 They've just won four government contracts to build off their 100 ambulances,                                                                                                 हाल ही में उन्हें सरकारी ठेका मिला है करीब सौ नई अम्बुलेन्स बनाने का,"
      ]
     },
     "execution_count": 6,
     "metadata": {},
     "output_type": "execute_result"
    }
   ],
   "source": [
    "df.tail()"
   ]
  },
  {
   "cell_type": "markdown",
   "metadata": {},
   "source": [
    "Missing Values"
   ]
  },
  {
   "cell_type": "code",
   "execution_count": 7,
   "metadata": {},
   "outputs": [
    {
     "data": {
      "text/plain": [
       "source              0\n",
       "english_sentence    2\n",
       "hindi_sentence      0\n",
       "dtype: int64"
      ]
     },
     "execution_count": 7,
     "metadata": {},
     "output_type": "execute_result"
    }
   ],
   "source": [
    "df.isna().sum()"
   ]
  },
  {
   "cell_type": "markdown",
   "metadata": {},
   "source": [
    "Dropping Missing Records"
   ]
  },
  {
   "cell_type": "code",
   "execution_count": 8,
   "metadata": {},
   "outputs": [],
   "source": [
    "df = df.dropna()"
   ]
  },
  {
   "cell_type": "code",
   "execution_count": 9,
   "metadata": {},
   "outputs": [
    {
     "data": {
      "text/plain": [
       "source              0\n",
       "english_sentence    0\n",
       "hindi_sentence      0\n",
       "dtype: int64"
      ]
     },
     "execution_count": 9,
     "metadata": {},
     "output_type": "execute_result"
    }
   ],
   "source": [
    "df.isna().sum()"
   ]
  },
  {
   "cell_type": "markdown",
   "metadata": {},
   "source": [
    "Description of Dataset"
   ]
  },
  {
   "cell_type": "code",
   "execution_count": 10,
   "metadata": {},
   "outputs": [
    {
     "data": {
      "text/html": [
       "<div>\n",
       "<style scoped>\n",
       "    .dataframe tbody tr th:only-of-type {\n",
       "        vertical-align: middle;\n",
       "    }\n",
       "\n",
       "    .dataframe tbody tr th {\n",
       "        vertical-align: top;\n",
       "    }\n",
       "\n",
       "    .dataframe thead th {\n",
       "        text-align: right;\n",
       "    }\n",
       "</style>\n",
       "<table border=\"1\" class=\"dataframe\">\n",
       "  <thead>\n",
       "    <tr style=\"text-align: right;\">\n",
       "      <th></th>\n",
       "      <th>source</th>\n",
       "      <th>english_sentence</th>\n",
       "      <th>hindi_sentence</th>\n",
       "    </tr>\n",
       "  </thead>\n",
       "  <tbody>\n",
       "    <tr>\n",
       "      <th>count</th>\n",
       "      <td>127605</td>\n",
       "      <td>127605</td>\n",
       "      <td>127605</td>\n",
       "    </tr>\n",
       "    <tr>\n",
       "      <th>unique</th>\n",
       "      <td>3</td>\n",
       "      <td>124317</td>\n",
       "      <td>97662</td>\n",
       "    </tr>\n",
       "    <tr>\n",
       "      <th>top</th>\n",
       "      <td>tides</td>\n",
       "      <td>(Laughter)</td>\n",
       "      <td>(हँसी)</td>\n",
       "    </tr>\n",
       "    <tr>\n",
       "      <th>freq</th>\n",
       "      <td>50000</td>\n",
       "      <td>555</td>\n",
       "      <td>212</td>\n",
       "    </tr>\n",
       "  </tbody>\n",
       "</table>\n",
       "</div>"
      ],
      "text/plain": [
       "        source english_sentence hindi_sentence\n",
       "count   127605           127605         127605\n",
       "unique       3           124317          97662\n",
       "top      tides       (Laughter)         (हँसी)\n",
       "freq     50000              555            212"
      ]
     },
     "execution_count": 10,
     "metadata": {},
     "output_type": "execute_result"
    }
   ],
   "source": [
    "df.describe()"
   ]
  },
  {
   "cell_type": "markdown",
   "metadata": {},
   "source": [
    "Tokens and Char Count"
   ]
  },
  {
   "cell_type": "code",
   "execution_count": 11,
   "metadata": {},
   "outputs": [
    {
     "data": {
      "text/html": [
       "        <script type=\"text/javascript\">\n",
       "        window.PlotlyConfig = {MathJaxConfig: 'local'};\n",
       "        if (window.MathJax && window.MathJax.Hub && window.MathJax.Hub.Config) {window.MathJax.Hub.Config({SVG: {font: \"STIX-Web\"}});}\n",
       "        if (typeof require !== 'undefined') {\n",
       "        require.undef(\"plotly\");\n",
       "        requirejs.config({\n",
       "            paths: {\n",
       "                'plotly': ['https://cdn.plot.ly/plotly-2.27.0.min']\n",
       "            }\n",
       "        });\n",
       "        require(['plotly'], function(Plotly) {\n",
       "            window._Plotly = Plotly;\n",
       "        });\n",
       "        }\n",
       "        </script>\n",
       "        "
      ]
     },
     "metadata": {},
     "output_type": "display_data"
    }
   ],
   "source": [
    "cf.set_config_file(offline=True)\n",
    "df[\"eng_char_count\"] = df[\"english_sentence\"].str.len()\n",
    "df[\"hindi_char_count\"] = df[\"hindi_sentence\"].str.len()\n",
    "df[\"hindi_tok_count\"] = df[\"hindi_sentence\"].str.split(\" \").str.len()\n",
    "df[\"eng_tok_count\"] = df[\"english_sentence\"].str.split(\" \").str.len()"
   ]
  },
  {
   "cell_type": "markdown",
   "metadata": {},
   "source": [
    "Most Common Words"
   ]
  },
  {
   "cell_type": "code",
   "execution_count": 12,
   "metadata": {},
   "outputs": [
    {
     "data": {
      "text/plain": [
       "[('the', 115944),\n",
       " ('of', 74298),\n",
       " ('and', 55015),\n",
       " (',', 52397),\n",
       " ('.', 50695),\n",
       " ('to', 47045),\n",
       " ('in', 41916),\n",
       " ('a', 34619),\n",
       " ('is', 29280),\n",
       " ('that', 17422)]"
      ]
     },
     "execution_count": 12,
     "metadata": {},
     "output_type": "execute_result"
    }
   ],
   "source": [
    "from collections import Counter\n",
    "\n",
    "tot_eng_sen = \"\"\n",
    "for eng_sent in df[\"english_sentence\"].tolist():\n",
    "    tot_eng_sen += eng_sent + \" \"\n",
    "    \n",
    "Counter(tot_eng_sen.split(\" \")).most_common(10)"
   ]
  },
  {
   "cell_type": "code",
   "execution_count": 13,
   "metadata": {},
   "outputs": [
    {
     "data": {
      "text/plain": [
       "[('के', 87750),\n",
       " ('में', 63389),\n",
       " ('है', 49672),\n",
       " ('की', 49069),\n",
       " ('.', 47650),\n",
       " ('और', 47371),\n",
       " ('से', 38061),\n",
       " (',', 33932),\n",
       " ('का', 33146),\n",
       " ('को', 31447)]"
      ]
     },
     "execution_count": 13,
     "metadata": {},
     "output_type": "execute_result"
    }
   ],
   "source": [
    "tot_hindi_sen = \"\"\n",
    "for hin_sent in df[\"hindi_sentence\"].tolist():\n",
    "    tot_hindi_sen += hin_sent + \" \"\n",
    "    \n",
    "Counter(tot_hindi_sen.split(\" \")).most_common(10)"
   ]
  },
  {
   "cell_type": "code",
   "execution_count": 15,
   "metadata": {},
   "outputs": [
    {
     "data": {
      "text/html": [
       "<div>\n",
       "<style scoped>\n",
       "    .dataframe tbody tr th:only-of-type {\n",
       "        vertical-align: middle;\n",
       "    }\n",
       "\n",
       "    .dataframe tbody tr th {\n",
       "        vertical-align: top;\n",
       "    }\n",
       "\n",
       "    .dataframe thead th {\n",
       "        text-align: right;\n",
       "    }\n",
       "</style>\n",
       "<table border=\"1\" class=\"dataframe\">\n",
       "  <thead>\n",
       "    <tr style=\"text-align: right;\">\n",
       "      <th></th>\n",
       "      <th>source</th>\n",
       "      <th>english_sentence</th>\n",
       "      <th>hindi_sentence</th>\n",
       "      <th>eng_char_count</th>\n",
       "      <th>hindi_char_count</th>\n",
       "      <th>hindi_tok_count</th>\n",
       "      <th>eng_tok_count</th>\n",
       "    </tr>\n",
       "  </thead>\n",
       "  <tbody>\n",
       "    <tr>\n",
       "      <th>0</th>\n",
       "      <td>ted</td>\n",
       "      <td>politicians do not have permission to do what needs to be done.</td>\n",
       "      <td>राजनीतिज्ञों के पास जो कार्य करना चाहिए, वह करने कि अनुमति नहीं है .</td>\n",
       "      <td>63</td>\n",
       "      <td>68</td>\n",
       "      <td>14</td>\n",
       "      <td>12</td>\n",
       "    </tr>\n",
       "    <tr>\n",
       "      <th>1</th>\n",
       "      <td>ted</td>\n",
       "      <td>I'd like to tell you about one such child,</td>\n",
       "      <td>मई आपको ऐसे ही एक बच्चे के बारे में बताना चाहूंगी,</td>\n",
       "      <td>42</td>\n",
       "      <td>50</td>\n",
       "      <td>11</td>\n",
       "      <td>9</td>\n",
       "    </tr>\n",
       "    <tr>\n",
       "      <th>2</th>\n",
       "      <td>indic2012</td>\n",
       "      <td>This percentage is even greater than the percentage in India.</td>\n",
       "      <td>यह प्रतिशत भारत में हिन्दुओं प्रतिशत से अधिक है।</td>\n",
       "      <td>61</td>\n",
       "      <td>48</td>\n",
       "      <td>9</td>\n",
       "      <td>10</td>\n",
       "    </tr>\n",
       "    <tr>\n",
       "      <th>3</th>\n",
       "      <td>ted</td>\n",
       "      <td>what we really mean is that they're bad at not paying attention.</td>\n",
       "      <td>हम ये नहीं कहना चाहते कि वो ध्यान नहीं दे पाते</td>\n",
       "      <td>64</td>\n",
       "      <td>46</td>\n",
       "      <td>11</td>\n",
       "      <td>12</td>\n",
       "    </tr>\n",
       "    <tr>\n",
       "      <th>4</th>\n",
       "      <td>indic2012</td>\n",
       "      <td>.The ending portion of these Vedas is called Upanishad.</td>\n",
       "      <td>इन्हीं वेदों का अंतिम भाग उपनिषद कहलाता है।</td>\n",
       "      <td>55</td>\n",
       "      <td>43</td>\n",
       "      <td>8</td>\n",
       "      <td>9</td>\n",
       "    </tr>\n",
       "    <tr>\n",
       "      <th>...</th>\n",
       "      <td>...</td>\n",
       "      <td>...</td>\n",
       "      <td>...</td>\n",
       "      <td>...</td>\n",
       "      <td>...</td>\n",
       "      <td>...</td>\n",
       "      <td>...</td>\n",
       "    </tr>\n",
       "    <tr>\n",
       "      <th>127602</th>\n",
       "      <td>indic2012</td>\n",
       "      <td>Examples of art deco construction can be found around Marine Drive and Oval Ground areas.</td>\n",
       "      <td>आर्ट डेको शैली के निर्माण मैरीन ड्राइव और ओवल मैदान के किनारे दिखाई देते हैं।</td>\n",
       "      <td>89</td>\n",
       "      <td>77</td>\n",
       "      <td>15</td>\n",
       "      <td>15</td>\n",
       "    </tr>\n",
       "    <tr>\n",
       "      <th>127603</th>\n",
       "      <td>ted</td>\n",
       "      <td>and put it in our cheeks.</td>\n",
       "      <td>और अपने गालों में डाल लेते हैं।</td>\n",
       "      <td>25</td>\n",
       "      <td>31</td>\n",
       "      <td>7</td>\n",
       "      <td>6</td>\n",
       "    </tr>\n",
       "    <tr>\n",
       "      <th>127604</th>\n",
       "      <td>tides</td>\n",
       "      <td>As for the other derivatives of sulphur , the country 's needs of iron , copper , sodium , etc . sulphates were limited , and the production achieved after the war was generally adequate .</td>\n",
       "      <td>जहां तक गंधक के अन्य उत्पादों का प्रश्न है , देश में लोहे , तांबे , सोडियम , सल्फेट आदि की आवश्यकता सीमित थी और युद्धोपरांत हुआ उत्पादन सामान्य रूप से पर्याप्त था .</td>\n",
       "      <td>188</td>\n",
       "      <td>164</td>\n",
       "      <td>34</td>\n",
       "      <td>36</td>\n",
       "    </tr>\n",
       "    <tr>\n",
       "      <th>127605</th>\n",
       "      <td>tides</td>\n",
       "      <td>its complicated functioning is defined thus in a popular riddle :</td>\n",
       "      <td>Zरचना-प्रकिया को उसने एक पहेली में यों बांधा है .</td>\n",
       "      <td>65</td>\n",
       "      <td>49</td>\n",
       "      <td>10</td>\n",
       "      <td>11</td>\n",
       "    </tr>\n",
       "    <tr>\n",
       "      <th>127606</th>\n",
       "      <td>ted</td>\n",
       "      <td>They've just won four government contracts to build off their 100 ambulances,</td>\n",
       "      <td>हाल ही में उन्हें सरकारी ठेका मिला है करीब सौ नई अम्बुलेन्स बनाने का,</td>\n",
       "      <td>77</td>\n",
       "      <td>69</td>\n",
       "      <td>14</td>\n",
       "      <td>12</td>\n",
       "    </tr>\n",
       "  </tbody>\n",
       "</table>\n",
       "<p>127605 rows × 7 columns</p>\n",
       "</div>"
      ],
      "text/plain": [
       "           source                                                                                                                                                                              english_sentence                                                                                                                                                        hindi_sentence  eng_char_count  hindi_char_count  hindi_tok_count  eng_tok_count\n",
       "0             ted                                                                                                                               politicians do not have permission to do what needs to be done.                                                                                                  राजनीतिज्ञों के पास जो कार्य करना चाहिए, वह करने कि अनुमति नहीं है .              63                68               14             12\n",
       "1             ted                                                                                                                                                    I'd like to tell you about one such child,                                                                                                                    मई आपको ऐसे ही एक बच्चे के बारे में बताना चाहूंगी,              42                50               11              9\n",
       "2       indic2012                                                                                                                                 This percentage is even greater than the percentage in India.                                                                                                                      यह प्रतिशत भारत में हिन्दुओं प्रतिशत से अधिक है।              61                48                9             10\n",
       "3             ted                                                                                                                              what we really mean is that they're bad at not paying attention.                                                                                                                        हम ये नहीं कहना चाहते कि वो ध्यान नहीं दे पाते              64                46               11             12\n",
       "4       indic2012                                                                                                                                       .The ending portion of these Vedas is called Upanishad.                                                                                                                           इन्हीं वेदों का अंतिम भाग उपनिषद कहलाता है।              55                43                8              9\n",
       "...           ...                                                                                                                                                                                           ...                                                                                                                                                                   ...             ...               ...              ...            ...\n",
       "127602  indic2012                                                                                                     Examples of art deco construction can be found around Marine Drive and Oval Ground areas.                                                                                         आर्ट डेको शैली के निर्माण मैरीन ड्राइव और ओवल मैदान के किनारे दिखाई देते हैं।              89                77               15             15\n",
       "127603        ted                                                                                                                                                                     and put it in our cheeks.                                                                                                                                       और अपने गालों में डाल लेते हैं।              25                31                7              6\n",
       "127604      tides  As for the other derivatives of sulphur , the country 's needs of iron , copper , sodium , etc . sulphates were limited , and the production achieved after the war was generally adequate .  जहां तक गंधक के अन्य उत्पादों का प्रश्न है , देश में लोहे , तांबे , सोडियम , सल्फेट आदि की आवश्यकता सीमित थी और युद्धोपरांत हुआ उत्पादन सामान्य रूप से पर्याप्त था .             188               164               34             36\n",
       "127605      tides                                                                                                                             its complicated functioning is defined thus in a popular riddle :                                                                                                                     Zरचना-प्रकिया को उसने एक पहेली में यों बांधा है .              65                49               10             11\n",
       "127606        ted                                                                                                                 They've just won four government contracts to build off their 100 ambulances,                                                                                                 हाल ही में उन्हें सरकारी ठेका मिला है करीब सौ नई अम्बुलेन्स बनाने का,              77                69               14             12\n",
       "\n",
       "[127605 rows x 7 columns]"
      ]
     },
     "execution_count": 15,
     "metadata": {},
     "output_type": "execute_result"
    }
   ],
   "source": [
    "df"
   ]
  },
  {
   "cell_type": "markdown",
   "metadata": {},
   "source": [
    "Preprocessing"
   ]
  },
  {
   "cell_type": "code",
   "execution_count": 16,
   "metadata": {},
   "outputs": [],
   "source": [
    "df=df[df['source']=='ted']"
   ]
  },
  {
   "cell_type": "code",
   "execution_count": 17,
   "metadata": {},
   "outputs": [],
   "source": [
    "\n",
    "df.english_sentence = df.english_sentence.apply(lambda x: x.lower())\n",
    "df.hindi_sentence = df.hindi_sentence.apply(lambda x: x.lower())"
   ]
  },
  {
   "cell_type": "markdown",
   "metadata": {},
   "source": [
    "Removing single quotes and replacing comma with spaces"
   ]
  },
  {
   "cell_type": "code",
   "execution_count": 18,
   "metadata": {},
   "outputs": [],
   "source": [
    "df.english_sentence = df.english_sentence.apply(lambda x: re.sub(\"'\", '', x)).apply(lambda x: re.sub(\",\", ' ', x))\n",
    "df.hindi_sentence = df.hindi_sentence.apply(lambda x: re.sub(\"'\", '', x)).apply(lambda x: re.sub(\",\", ' ', x))"
   ]
  },
  {
   "cell_type": "code",
   "execution_count": 19,
   "metadata": {},
   "outputs": [],
   "source": [
    "\n",
    "df['english_sentence']=df['english_sentence'].apply(lambda x: re.sub(\"'\", '', x))\n",
    "df['hindi_sentence']=df['hindi_sentence'].apply(lambda x: re.sub(\"'\", '', x))"
   ]
  },
  {
   "cell_type": "code",
   "execution_count": 20,
   "metadata": {},
   "outputs": [],
   "source": [
    "exclude = set(string.punctuation)\n",
    "df['english_sentence']=df['english_sentence'].apply(lambda x: ''.join(ch for ch in x if ch not in exclude))\n",
    "df['hindi_sentence']=df['hindi_sentence'].apply(lambda x: ''.join(ch for ch in x if ch not in exclude))"
   ]
  },
  {
   "cell_type": "markdown",
   "metadata": {},
   "source": [
    "Removing all numbers and extra spaces from texts"
   ]
  },
  {
   "cell_type": "code",
   "execution_count": 21,
   "metadata": {},
   "outputs": [],
   "source": [
    "from string import digits\n",
    "remove_digits = str.maketrans('', '', digits)\n",
    "df['english_sentence']=df['english_sentence'].apply(lambda x: x.translate(remove_digits))\n",
    "df['hindi_sentence']=df['hindi_sentence'].apply(lambda x: x.translate(remove_digits))\n",
    "df['hindi_sentence'] = df['hindi_sentence'].apply(lambda x: re.sub(\"[२३०८१५७९४६]\", \"\", x))\n",
    "\n",
    "df['english_sentence']=df['english_sentence'].apply(lambda x: x.strip())\n",
    "df['hindi_sentence']=df['hindi_sentence'].apply(lambda x: x.strip())\n",
    "df['english_sentence']=df['english_sentence'].apply(lambda x: re.sub(\" +\", \" \", x))\n",
    "df['hindi_sentence']=df['hindi_sentence'].apply(lambda x: re.sub(\" +\", \" \", x))"
   ]
  },
  {
   "cell_type": "code",
   "execution_count": 22,
   "metadata": {},
   "outputs": [],
   "source": [
    "df['hindi_sentence'] = df['hindi_sentence'].apply(lambda x :'START_ ' + x + ' _END')"
   ]
  },
  {
   "cell_type": "code",
   "execution_count": 23,
   "metadata": {},
   "outputs": [
    {
     "data": {
      "text/html": [
       "<div>\n",
       "<style scoped>\n",
       "    .dataframe tbody tr th:only-of-type {\n",
       "        vertical-align: middle;\n",
       "    }\n",
       "\n",
       "    .dataframe tbody tr th {\n",
       "        vertical-align: top;\n",
       "    }\n",
       "\n",
       "    .dataframe thead th {\n",
       "        text-align: right;\n",
       "    }\n",
       "</style>\n",
       "<table border=\"1\" class=\"dataframe\">\n",
       "  <thead>\n",
       "    <tr style=\"text-align: right;\">\n",
       "      <th></th>\n",
       "      <th>source</th>\n",
       "      <th>english_sentence</th>\n",
       "      <th>hindi_sentence</th>\n",
       "      <th>eng_char_count</th>\n",
       "      <th>hindi_char_count</th>\n",
       "      <th>hindi_tok_count</th>\n",
       "      <th>eng_tok_count</th>\n",
       "    </tr>\n",
       "  </thead>\n",
       "  <tbody>\n",
       "    <tr>\n",
       "      <th>74830</th>\n",
       "      <td>ted</td>\n",
       "      <td>youve already learned first of all</td>\n",
       "      <td>START_ आप पहले से ही सब सीख चुके हैं _END</td>\n",
       "      <td>37</td>\n",
       "      <td>30</td>\n",
       "      <td>8</td>\n",
       "      <td>6</td>\n",
       "    </tr>\n",
       "    <tr>\n",
       "      <th>16492</th>\n",
       "      <td>ted</td>\n",
       "      <td>things are changing</td>\n",
       "      <td>START_ चीजें बदल रही हैं। _END</td>\n",
       "      <td>20</td>\n",
       "      <td>18</td>\n",
       "      <td>4</td>\n",
       "      <td>3</td>\n",
       "    </tr>\n",
       "    <tr>\n",
       "      <th>43211</th>\n",
       "      <td>ted</td>\n",
       "      <td>trying to understand something of the pain of others</td>\n",
       "      <td>START_ दूसरों का दर्द समझने की कोशिश करना _END</td>\n",
       "      <td>53</td>\n",
       "      <td>35</td>\n",
       "      <td>7</td>\n",
       "      <td>9</td>\n",
       "    </tr>\n",
       "    <tr>\n",
       "      <th>122737</th>\n",
       "      <td>ted</td>\n",
       "      <td>for our vacant storefronts so our communities</td>\n",
       "      <td>START_ जिससे आज हमारा समाज हमारी जरूरतों और सपनों को _END</td>\n",
       "      <td>46</td>\n",
       "      <td>45</td>\n",
       "      <td>9</td>\n",
       "      <td>7</td>\n",
       "    </tr>\n",
       "    <tr>\n",
       "      <th>79785</th>\n",
       "      <td>ted</td>\n",
       "      <td>he was the president of a corporation in ohio</td>\n",
       "      <td>START_ वे ओहायो की किसी कंपनी के अध्यक्ष थे _END</td>\n",
       "      <td>46</td>\n",
       "      <td>37</td>\n",
       "      <td>8</td>\n",
       "      <td>9</td>\n",
       "    </tr>\n",
       "    <tr>\n",
       "      <th>92434</th>\n",
       "      <td>ted</td>\n",
       "      <td>so does that</td>\n",
       "      <td>START_ और इसका भी _END</td>\n",
       "      <td>13</td>\n",
       "      <td>10</td>\n",
       "      <td>3</td>\n",
       "      <td>3</td>\n",
       "    </tr>\n",
       "    <tr>\n",
       "      <th>63399</th>\n",
       "      <td>ted</td>\n",
       "      <td>applause</td>\n",
       "      <td>START_ तालियाँ _END</td>\n",
       "      <td>10</td>\n",
       "      <td>9</td>\n",
       "      <td>1</td>\n",
       "      <td>1</td>\n",
       "    </tr>\n",
       "    <tr>\n",
       "      <th>53012</th>\n",
       "      <td>ted</td>\n",
       "      <td>and we create everything we can see in any direction right</td>\n",
       "      <td>START_ हर दिशा में दिखने वाली हर चीज़ बनाई जा सकती है _END</td>\n",
       "      <td>60</td>\n",
       "      <td>47</td>\n",
       "      <td>11</td>\n",
       "      <td>11</td>\n",
       "    </tr>\n",
       "    <tr>\n",
       "      <th>56162</th>\n",
       "      <td>ted</td>\n",
       "      <td>i see now i never was one and not the other</td>\n",
       "      <td>START_ मेंने अब जाना कि ऎसा कभी नहीं था कि मैं एक थी और दूसरी नहीं _END</td>\n",
       "      <td>45</td>\n",
       "      <td>61</td>\n",
       "      <td>15</td>\n",
       "      <td>11</td>\n",
       "    </tr>\n",
       "    <tr>\n",
       "      <th>28544</th>\n",
       "      <td>ted</td>\n",
       "      <td>is understanding relationships</td>\n",
       "      <td>START_ रिश्तों को समझना भर है। _END</td>\n",
       "      <td>31</td>\n",
       "      <td>23</td>\n",
       "      <td>5</td>\n",
       "      <td>3</td>\n",
       "    </tr>\n",
       "  </tbody>\n",
       "</table>\n",
       "</div>"
      ],
      "text/plain": [
       "       source                                            english_sentence                                                           hindi_sentence  eng_char_count  hindi_char_count  hindi_tok_count  eng_tok_count\n",
       "74830     ted                          youve already learned first of all                                START_ आप पहले से ही सब सीख चुके हैं _END              37                30                8              6\n",
       "16492     ted                                         things are changing                                           START_ चीजें बदल रही हैं। _END              20                18                4              3\n",
       "43211     ted        trying to understand something of the pain of others                           START_ दूसरों का दर्द समझने की कोशिश करना _END              53                35                7              9\n",
       "122737    ted               for our vacant storefronts so our communities                START_ जिससे आज हमारा समाज हमारी जरूरतों और सपनों को _END              46                45                9              7\n",
       "79785     ted               he was the president of a corporation in ohio                         START_ वे ओहायो की किसी कंपनी के अध्यक्ष थे _END              46                37                8              9\n",
       "92434     ted                                                so does that                                                   START_ और इसका भी _END              13                10                3              3\n",
       "63399     ted                                                    applause                                                      START_ तालियाँ _END              10                 9                1              1\n",
       "53012     ted  and we create everything we can see in any direction right               START_ हर दिशा में दिखने वाली हर चीज़ बनाई जा सकती है _END              60                47               11             11\n",
       "56162     ted                 i see now i never was one and not the other  START_ मेंने अब जाना कि ऎसा कभी नहीं था कि मैं एक थी और दूसरी नहीं _END              45                61               15             11\n",
       "28544     ted                              is understanding relationships                                      START_ रिश्तों को समझना भर है। _END              31                23                5              3"
      ]
     },
     "execution_count": 23,
     "metadata": {},
     "output_type": "execute_result"
    }
   ],
   "source": [
    "df.sample(10)"
   ]
  },
  {
   "cell_type": "code",
   "execution_count": 24,
   "metadata": {},
   "outputs": [],
   "source": [
    "all_eng_words=set()\n",
    "for eng in df['english_sentence']:\n",
    "    for word in eng.split():\n",
    "        if word not in all_eng_words:\n",
    "            all_eng_words.add(word)\n",
    "\n",
    "all_hindi_words=set()\n",
    "for hin in df['hindi_sentence']:\n",
    "    for word in hin.split():\n",
    "        if word not in all_hindi_words:\n",
    "            all_hindi_words.add(word)"
   ]
  },
  {
   "cell_type": "code",
   "execution_count": 25,
   "metadata": {},
   "outputs": [],
   "source": [
    "\n",
    "df['length_eng_sentence']=df['english_sentence'].apply(lambda x:len(x.split(\" \")))\n",
    "df['length_hin_sentence']=df['hindi_sentence'].apply(lambda x:len(x.split(\" \")))"
   ]
  },
  {
   "cell_type": "code",
   "execution_count": 26,
   "metadata": {},
   "outputs": [
    {
     "data": {
      "text/html": [
       "<div>\n",
       "<style scoped>\n",
       "    .dataframe tbody tr th:only-of-type {\n",
       "        vertical-align: middle;\n",
       "    }\n",
       "\n",
       "    .dataframe tbody tr th {\n",
       "        vertical-align: top;\n",
       "    }\n",
       "\n",
       "    .dataframe thead th {\n",
       "        text-align: right;\n",
       "    }\n",
       "</style>\n",
       "<table border=\"1\" class=\"dataframe\">\n",
       "  <thead>\n",
       "    <tr style=\"text-align: right;\">\n",
       "      <th></th>\n",
       "      <th>source</th>\n",
       "      <th>english_sentence</th>\n",
       "      <th>hindi_sentence</th>\n",
       "      <th>eng_char_count</th>\n",
       "      <th>hindi_char_count</th>\n",
       "      <th>hindi_tok_count</th>\n",
       "      <th>eng_tok_count</th>\n",
       "      <th>length_eng_sentence</th>\n",
       "      <th>length_hin_sentence</th>\n",
       "    </tr>\n",
       "  </thead>\n",
       "  <tbody>\n",
       "    <tr>\n",
       "      <th>0</th>\n",
       "      <td>ted</td>\n",
       "      <td>politicians do not have permission to do what needs to be done</td>\n",
       "      <td>START_ राजनीतिज्ञों के पास जो कार्य करना चाहिए वह करने कि अनुमति नहीं है _END</td>\n",
       "      <td>63</td>\n",
       "      <td>68</td>\n",
       "      <td>14</td>\n",
       "      <td>12</td>\n",
       "      <td>12</td>\n",
       "      <td>15</td>\n",
       "    </tr>\n",
       "    <tr>\n",
       "      <th>1</th>\n",
       "      <td>ted</td>\n",
       "      <td>id like to tell you about one such child</td>\n",
       "      <td>START_ मई आपको ऐसे ही एक बच्चे के बारे में बताना चाहूंगी _END</td>\n",
       "      <td>42</td>\n",
       "      <td>50</td>\n",
       "      <td>11</td>\n",
       "      <td>9</td>\n",
       "      <td>9</td>\n",
       "      <td>13</td>\n",
       "    </tr>\n",
       "    <tr>\n",
       "      <th>3</th>\n",
       "      <td>ted</td>\n",
       "      <td>what we really mean is that theyre bad at not paying attention</td>\n",
       "      <td>START_ हम ये नहीं कहना चाहते कि वो ध्यान नहीं दे पाते _END</td>\n",
       "      <td>64</td>\n",
       "      <td>46</td>\n",
       "      <td>11</td>\n",
       "      <td>12</td>\n",
       "      <td>12</td>\n",
       "      <td>13</td>\n",
       "    </tr>\n",
       "    <tr>\n",
       "      <th>7</th>\n",
       "      <td>ted</td>\n",
       "      <td>and who are we to say even that they are wrong</td>\n",
       "      <td>START_ और हम होते कौन हैं यह कहने भी वाले कि वे गलत हैं _END</td>\n",
       "      <td>48</td>\n",
       "      <td>48</td>\n",
       "      <td>13</td>\n",
       "      <td>11</td>\n",
       "      <td>11</td>\n",
       "      <td>15</td>\n",
       "    </tr>\n",
       "    <tr>\n",
       "      <th>13</th>\n",
       "      <td>ted</td>\n",
       "      <td>so there is some sort of justice</td>\n",
       "      <td>START_ तो वहाँ न्याय है _END</td>\n",
       "      <td>32</td>\n",
       "      <td>16</td>\n",
       "      <td>4</td>\n",
       "      <td>7</td>\n",
       "      <td>7</td>\n",
       "      <td>6</td>\n",
       "    </tr>\n",
       "  </tbody>\n",
       "</table>\n",
       "</div>"
      ],
      "text/plain": [
       "   source                                                english_sentence                                                                 hindi_sentence  eng_char_count  hindi_char_count  hindi_tok_count  eng_tok_count  length_eng_sentence  length_hin_sentence\n",
       "0     ted  politicians do not have permission to do what needs to be done  START_ राजनीतिज्ञों के पास जो कार्य करना चाहिए वह करने कि अनुमति नहीं है _END              63                68               14             12                   12                   15\n",
       "1     ted                        id like to tell you about one such child                  START_ मई आपको ऐसे ही एक बच्चे के बारे में बताना चाहूंगी _END              42                50               11              9                    9                   13\n",
       "3     ted  what we really mean is that theyre bad at not paying attention                     START_ हम ये नहीं कहना चाहते कि वो ध्यान नहीं दे पाते _END              64                46               11             12                   12                   13\n",
       "7     ted                  and who are we to say even that they are wrong                   START_ और हम होते कौन हैं यह कहने भी वाले कि वे गलत हैं _END              48                48               13             11                   11                   15\n",
       "13    ted                                so there is some sort of justice                                                   START_ तो वहाँ न्याय है _END              32                16                4              7                    7                    6"
      ]
     },
     "execution_count": 26,
     "metadata": {},
     "output_type": "execute_result"
    }
   ],
   "source": [
    "df.head()"
   ]
  },
  {
   "cell_type": "code",
   "execution_count": 27,
   "metadata": {},
   "outputs": [
    {
     "name": "stdout",
     "output_type": "stream",
     "text": [
      "length of english words:  17292\n",
      "length of hindi words:  22210\n"
     ]
    }
   ],
   "source": [
    "print('length of english words: ', len(all_eng_words))\n",
    "print('length of hindi words: ', len(all_hindi_words))"
   ]
  },
  {
   "cell_type": "code",
   "execution_count": 28,
   "metadata": {},
   "outputs": [
    {
     "data": {
      "text/plain": [
       "(17292, 22210)"
      ]
     },
     "execution_count": 28,
     "metadata": {},
     "output_type": "execute_result"
    }
   ],
   "source": [
    "input_words = sorted(list(all_eng_words))\n",
    "target_words = sorted(list(all_hindi_words))\n",
    "num_encoder_tokens = len(all_eng_words)\n",
    "num_decoder_tokens = len(all_hindi_words)\n",
    "num_encoder_tokens, num_decoder_tokens"
   ]
  },
  {
   "cell_type": "code",
   "execution_count": 29,
   "metadata": {},
   "outputs": [],
   "source": [
    "num_decoder_tokens += 1 #for zero padding"
   ]
  },
  {
   "cell_type": "code",
   "execution_count": 30,
   "metadata": {},
   "outputs": [],
   "source": [
    "\n",
    "input_token_index = dict([(word, i+1) for i, word in enumerate(input_words)])\n",
    "target_token_index = dict([(word, i+1) for i, word in enumerate(target_words)])"
   ]
  },
  {
   "cell_type": "code",
   "execution_count": 31,
   "metadata": {},
   "outputs": [],
   "source": [
    "\n",
    "reverse_input_char_index = dict((i, word) for word, i in input_token_index.items())\n",
    "reverse_target_char_index = dict((i, word) for word, i in target_token_index.items())"
   ]
  },
  {
   "cell_type": "code",
   "execution_count": 32,
   "metadata": {},
   "outputs": [],
   "source": [
    "from sklearn.model_selection import train_test_split\n",
    "from sklearn.utils import shuffle"
   ]
  },
  {
   "cell_type": "code",
   "execution_count": 33,
   "metadata": {},
   "outputs": [
    {
     "data": {
      "text/html": [
       "<div>\n",
       "<style scoped>\n",
       "    .dataframe tbody tr th:only-of-type {\n",
       "        vertical-align: middle;\n",
       "    }\n",
       "\n",
       "    .dataframe tbody tr th {\n",
       "        vertical-align: top;\n",
       "    }\n",
       "\n",
       "    .dataframe thead th {\n",
       "        text-align: right;\n",
       "    }\n",
       "</style>\n",
       "<table border=\"1\" class=\"dataframe\">\n",
       "  <thead>\n",
       "    <tr style=\"text-align: right;\">\n",
       "      <th></th>\n",
       "      <th>source</th>\n",
       "      <th>english_sentence</th>\n",
       "      <th>hindi_sentence</th>\n",
       "      <th>eng_char_count</th>\n",
       "      <th>hindi_char_count</th>\n",
       "      <th>hindi_tok_count</th>\n",
       "      <th>eng_tok_count</th>\n",
       "      <th>length_eng_sentence</th>\n",
       "      <th>length_hin_sentence</th>\n",
       "    </tr>\n",
       "  </thead>\n",
       "  <tbody>\n",
       "    <tr>\n",
       "      <th>1304</th>\n",
       "      <td>ted</td>\n",
       "      <td>most dynamic and young photographers</td>\n",
       "      <td>START_ सबसे हुनरशुदा और युवा फोटोग्राफ़रों ने लिये हैं _END</td>\n",
       "      <td>37</td>\n",
       "      <td>48</td>\n",
       "      <td>8</td>\n",
       "      <td>5</td>\n",
       "      <td>5</td>\n",
       "      <td>10</td>\n",
       "    </tr>\n",
       "    <tr>\n",
       "      <th>15752</th>\n",
       "      <td>ted</td>\n",
       "      <td>no the boy said to me</td>\n",
       "      <td>START_ नहीं उस लड़के ने मुझसे कहा _END</td>\n",
       "      <td>24</td>\n",
       "      <td>29</td>\n",
       "      <td>7</td>\n",
       "      <td>7</td>\n",
       "      <td>6</td>\n",
       "      <td>8</td>\n",
       "    </tr>\n",
       "    <tr>\n",
       "      <th>109093</th>\n",
       "      <td>ted</td>\n",
       "      <td>you make two halfcuts</td>\n",
       "      <td>START_ और दो जगह आधा काट दीजिये। _END</td>\n",
       "      <td>23</td>\n",
       "      <td>25</td>\n",
       "      <td>6</td>\n",
       "      <td>4</td>\n",
       "      <td>4</td>\n",
       "      <td>8</td>\n",
       "    </tr>\n",
       "    <tr>\n",
       "      <th>56835</th>\n",
       "      <td>ted</td>\n",
       "      <td>is that were writing things</td>\n",
       "      <td>START_ कि हम लिख रहे हैं _END</td>\n",
       "      <td>29</td>\n",
       "      <td>18</td>\n",
       "      <td>5</td>\n",
       "      <td>5</td>\n",
       "      <td>5</td>\n",
       "      <td>7</td>\n",
       "    </tr>\n",
       "    <tr>\n",
       "      <th>11906</th>\n",
       "      <td>ted</td>\n",
       "      <td>especially if you have two options you have the brown one or the clear one</td>\n",
       "      <td>START_ खासकर जब वो आपसे पूछता हो कि भूर वाल दूँ या सफ़ेद । _END</td>\n",
       "      <td>76</td>\n",
       "      <td>52</td>\n",
       "      <td>13</td>\n",
       "      <td>15</td>\n",
       "      <td>15</td>\n",
       "      <td>15</td>\n",
       "    </tr>\n",
       "    <tr>\n",
       "      <th>67840</th>\n",
       "      <td>ted</td>\n",
       "      <td>churches temples other things</td>\n",
       "      <td>START_ गिरजे मंदिर इत्यादि _END</td>\n",
       "      <td>33</td>\n",
       "      <td>22</td>\n",
       "      <td>4</td>\n",
       "      <td>5</td>\n",
       "      <td>4</td>\n",
       "      <td>5</td>\n",
       "    </tr>\n",
       "    <tr>\n",
       "      <th>38502</th>\n",
       "      <td>ted</td>\n",
       "      <td>but it does tend to leave you waking up crying at three oclock in the morning</td>\n",
       "      <td>START_ मगर हो सकता है कि आप सुबह के तीन बजे जागे हुए पाये जायें। _END</td>\n",
       "      <td>79</td>\n",
       "      <td>57</td>\n",
       "      <td>14</td>\n",
       "      <td>16</td>\n",
       "      <td>16</td>\n",
       "      <td>16</td>\n",
       "    </tr>\n",
       "    <tr>\n",
       "      <th>6230</th>\n",
       "      <td>ted</td>\n",
       "      <td>and also this</td>\n",
       "      <td>START_ और यह भी _END</td>\n",
       "      <td>13</td>\n",
       "      <td>8</td>\n",
       "      <td>3</td>\n",
       "      <td>3</td>\n",
       "      <td>3</td>\n",
       "      <td>5</td>\n",
       "    </tr>\n",
       "    <tr>\n",
       "      <th>45429</th>\n",
       "      <td>ted</td>\n",
       "      <td>i couldnt believe my eyes when i first saw that</td>\n",
       "      <td>START_ जब मैंने पहली बार इसे देखा तो मुझे अपनी आँखों पर विश्वास नहीं हुआ _END</td>\n",
       "      <td>49</td>\n",
       "      <td>66</td>\n",
       "      <td>14</td>\n",
       "      <td>10</td>\n",
       "      <td>10</td>\n",
       "      <td>16</td>\n",
       "    </tr>\n",
       "    <tr>\n",
       "      <th>116527</th>\n",
       "      <td>ted</td>\n",
       "      <td>laughter</td>\n",
       "      <td>START_ हँसी _END</td>\n",
       "      <td>10</td>\n",
       "      <td>6</td>\n",
       "      <td>1</td>\n",
       "      <td>1</td>\n",
       "      <td>1</td>\n",
       "      <td>3</td>\n",
       "    </tr>\n",
       "  </tbody>\n",
       "</table>\n",
       "</div>"
      ],
      "text/plain": [
       "       source                                                               english_sentence                                                                 hindi_sentence  eng_char_count  hindi_char_count  hindi_tok_count  eng_tok_count  length_eng_sentence  length_hin_sentence\n",
       "1304      ted                                           most dynamic and young photographers                    START_ सबसे हुनरशुदा और युवा फोटोग्राफ़रों ने लिये हैं _END              37                48                8              5                    5                   10\n",
       "15752     ted                                                          no the boy said to me                                         START_ नहीं उस लड़के ने मुझसे कहा _END              24                29                7              7                    6                    8\n",
       "109093    ted                                                          you make two halfcuts                                          START_ और दो जगह आधा काट दीजिये। _END              23                25                6              4                    4                    8\n",
       "56835     ted                                                    is that were writing things                                                  START_ कि हम लिख रहे हैं _END              29                18                5              5                    5                    7\n",
       "11906     ted     especially if you have two options you have the brown one or the clear one                START_ खासकर जब वो आपसे पूछता हो कि भूर वाल दूँ या सफ़ेद । _END              76                52               13             15                   15                   15\n",
       "67840     ted                                                  churches temples other things                                                START_ गिरजे मंदिर इत्यादि _END              33                22                4              5                    4                    5\n",
       "38502     ted  but it does tend to leave you waking up crying at three oclock in the morning          START_ मगर हो सकता है कि आप सुबह के तीन बजे जागे हुए पाये जायें। _END              79                57               14             16                   16                   16\n",
       "6230      ted                                                                  and also this                                                           START_ और यह भी _END              13                 8                3              3                    3                    5\n",
       "45429     ted                                i couldnt believe my eyes when i first saw that  START_ जब मैंने पहली बार इसे देखा तो मुझे अपनी आँखों पर विश्वास नहीं हुआ _END              49                66               14             10                   10                   16\n",
       "116527    ted                                                                       laughter                                                               START_ हँसी _END              10                 6                1              1                    1                    3"
      ]
     },
     "execution_count": 33,
     "metadata": {},
     "output_type": "execute_result"
    }
   ],
   "source": [
    "\n",
    "df = shuffle(df)\n",
    "df.head(10)"
   ]
  },
  {
   "cell_type": "code",
   "execution_count": 34,
   "metadata": {},
   "outputs": [
    {
     "name": "stdout",
     "output_type": "stream",
     "text": [
      "max_input_length:  21\n"
     ]
    }
   ],
   "source": [
    "# getting maximum sentence length of english sentences\n",
    "length_list = []\n",
    "for l in df.english_sentence:\n",
    "    length_list.append(len(l.split(' ')))\n",
    "\n",
    "max_input_length = np.max(length_list)\n",
    "print('max_input_length: ', max_input_length)"
   ]
  },
  {
   "cell_type": "code",
   "execution_count": 35,
   "metadata": {},
   "outputs": [
    {
     "name": "stdout",
     "output_type": "stream",
     "text": [
      "max_output_length:  32\n"
     ]
    }
   ],
   "source": [
    " #getting maximum sentence length of Hindi sentences\n",
    "length_list = []\n",
    "for l in df.hindi_sentence:\n",
    "    length_list.append(len(l.split(' ')))\n",
    "\n",
    "max_output_length = np.max(length_list)\n",
    "print('max_output_length: ', max_output_length)"
   ]
  },
  {
   "cell_type": "code",
   "execution_count": 36,
   "metadata": {},
   "outputs": [],
   "source": [
    "df_filtered = df[(df['length_eng_sentence'] <= 20) & (df['length_hin_sentence'] <= 20)]\n",
    "\n",
    "df_=df[df['length_eng_sentence']<=20]\n",
    "df_=df[df['length_hin_sentence']<=20]\n"
   ]
  },
  {
   "cell_type": "code",
   "execution_count": 37,
   "metadata": {},
   "outputs": [
    {
     "name": "stdout",
     "output_type": "stream",
     "text": [
      "maximum length of Hindi Sentence  20\n",
      "maximum length of English Sentence  20\n"
     ]
    }
   ],
   "source": [
    "\n",
    "print(\"maximum length of Hindi Sentence \",max(df_['length_hin_sentence']))\n",
    "print(\"maximum length of English Sentence \", max(df_['length_eng_sentence']))\n"
   ]
  },
  {
   "cell_type": "code",
   "execution_count": 38,
   "metadata": {},
   "outputs": [
    {
     "data": {
      "text/plain": [
       "((27687,), (11867,))"
      ]
     },
     "execution_count": 38,
     "metadata": {},
     "output_type": "execute_result"
    }
   ],
   "source": [
    "x, y = df_filtered['english_sentence'], df_filtered['hindi_sentence']\n",
    "x_train, x_test, y_train, y_test = train_test_split(x, y, test_size = 0.3,random_state=42)\n",
    "x_train.shape, x_test.shape\n"
   ]
  },
  {
   "cell_type": "code",
   "execution_count": 39,
   "metadata": {},
   "outputs": [
    {
     "data": {
      "text/plain": [
       "9628                                     to talk about an idea worth spreading\n",
       "20845                                    is this something other people can do\n",
       "50705                                     and this is how we develop our ideas\n",
       "31618                         that this separation is within acceptable levels\n",
       "117212    what if my roommate knew about my wonderfully ambitious hair braider\n",
       "                                          ...                                 \n",
       "91375                                          and i needed to be back helping\n",
       "37516                                          no machines have been developed\n",
       "105192                                     they said “we look at it every day”\n",
       "81887                                                           we smile often\n",
       "75950                                   i had a friend a history major like me\n",
       "Name: english_sentence, Length: 27687, dtype: object"
      ]
     },
     "execution_count": 39,
     "metadata": {},
     "output_type": "execute_result"
    }
   ],
   "source": [
    "x_train"
   ]
  },
  {
   "cell_type": "code",
   "execution_count": 40,
   "metadata": {},
   "outputs": [
    {
     "data": {
      "text/plain": [
       "9628                                                           START_ एक बाँटने योग्य विचार के बारे में बात करने के लिए _END\n",
       "20845                                                                   START_ क्या ये कुछ ऐसा है जो और लोग कर सकते हैं _END\n",
       "50705                                                                         START_ और इस तरह हम अपनी योजनाएं बनाते है _END\n",
       "31618                                                                            START_ की यह अंतर स्वीकार्य स्तर पर है _END\n",
       "117212    START_ क्या होता यदि मेरी रूममेट को मेरी चोटी बनानेवाली उस ज़बर्दस्त महत्वाकांक्षी लड़की के बारे में पता होता _END\n",
       "                                                                 ...                                                        \n",
       "91375                                                                           START_ और मुझे वापस जाकर मदद करनी चाहिए _END\n",
       "37516                                                                 START_ कोई मशीन नहीं बनाई गयी है इस काम के लिये । _END\n",
       "105192                                                                   START_ उन्होंने कहा “हम इसे हर रोज़ देखते हैं” _END\n",
       "81887                                                                                     START_ हम काफी मुस्कुराते हैं _END\n",
       "75950                                                                  START_ मेरा एक दोस्त है इतिहास पढ़ा हुआ मेरी तरह _END\n",
       "Name: hindi_sentence, Length: 27687, dtype: object"
      ]
     },
     "execution_count": 40,
     "metadata": {},
     "output_type": "execute_result"
    }
   ],
   "source": [
    "y_train"
   ]
  },
  {
   "cell_type": "code",
   "execution_count": 41,
   "metadata": {},
   "outputs": [],
   "source": [
    "from transformers import MBartForConditionalGeneration, MBart50TokenizerFast\n",
    "import tensorflow as tf"
   ]
  },
  {
   "cell_type": "code",
   "execution_count": 47,
   "metadata": {},
   "outputs": [],
   "source": [
    "# Training\n",
    "model = MBartForConditionalGeneration.from_pretrained(\"facebook/mbart-large-50-one-to-many-mmt\")\n",
    "tokenizer = MBart50TokenizerFast.from_pretrained(\"facebook/mbart-large-50-one-to-many-mmt\", src_lang=\"en_XX\")\n"
   ]
  },
  {
   "cell_type": "code",
   "execution_count": 49,
   "metadata": {},
   "outputs": [
    {
     "name": "stdout",
     "output_type": "stream",
     "text": [
      "English : What are you doing?\n",
      "Translated Hindi : तुम क्या कर रहे हो?\n"
     ]
    }
   ],
   "source": [
    "# Inference with the fine-tuned model\n",
    "def translate_any_sentence(in_text):\n",
    "    model_inputs = tokenizer(in_text, return_tensors=\"pt\")\n",
    "\n",
    "    generated_tokens = model.generate(\n",
    "        **model_inputs,\n",
    "        forced_bos_token_id=tokenizer.lang_code_to_id[\"hi_IN\"]\n",
    "    )\n",
    "    translation = tokenizer.batch_decode(generated_tokens, skip_special_tokens=True)\n",
    "    return translation[0] if translation else \"Translation not available\"\n",
    "\n",
    "english_sentence = \"What are you doing?\"\n",
    "translated_hindi_sentence = translate_any_sentence(english_sentence)\n",
    "\n",
    "print(f\"English : {english_sentence}\\nTranslated Hindi : {translated_hindi_sentence}\")"
   ]
  }
 ],
 "metadata": {
  "kernelspec": {
   "display_name": "Python 3",
   "language": "python",
   "name": "python3"
  },
  "language_info": {
   "codemirror_mode": {
    "name": "ipython",
    "version": 3
   },
   "file_extension": ".py",
   "mimetype": "text/x-python",
   "name": "python",
   "nbconvert_exporter": "python",
   "pygments_lexer": "ipython3",
   "version": "3.10.0"
  }
 },
 "nbformat": 4,
 "nbformat_minor": 2
}
